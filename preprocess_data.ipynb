{
 "cells": [
  {
   "cell_type": "code",
   "execution_count": null,
   "metadata": {
    "collapsed": true
   },
   "outputs": [],
   "source": [
    "# Parse H5 files into dictionary of features"
   ]
  },
  {
   "cell_type": "code",
   "execution_count": 95,
   "metadata": {
    "collapsed": false
   },
   "outputs": [],
   "source": [
    "# Imports\n",
    "\n",
    "import os\n",
    "import h5py"
   ]
  },
  {
   "cell_type": "code",
   "execution_count": 96,
   "metadata": {
    "collapsed": true
   },
   "outputs": [],
   "source": [
    "# Vars\n",
    "\n",
    "h5_location = \"data\\\\h5\"  # Using \\\\ for windows"
   ]
  },
  {
   "cell_type": "code",
   "execution_count": 97,
   "metadata": {
    "collapsed": false
   },
   "outputs": [
    {
     "name": "stdout",
     "output_type": "stream",
     "text": [
      "['data\\\\h5\\\\sample.h5']\n"
     ]
    }
   ],
   "source": [
    "# Find H5 files\n",
    "\n",
    "h5_list = []\n",
    "\n",
    "for root, dirs, files in os.walk(h5_location):\n",
    "    for file in files:\n",
    "        if file.endswith(\".h5\"):\n",
    "             h5_list.append(os.path.join(root, file))\n",
    "                \n",
    "print h5_list\n"
   ]
  },
  {
   "cell_type": "code",
   "execution_count": 98,
   "metadata": {
    "collapsed": false
   },
   "outputs": [],
   "source": [
    "# Convert H5 files into dict of features\n",
    "\n",
    "all_features = {}\n",
    "\n",
    "for h5_file in h5_list:\n",
    "    f = h5py.File(h5_file, \"r\")\n",
    "    features = {}\n",
    "    for key in f.keys():\n",
    "        primary_key = f.get(key)\n",
    "        for sub_key in primary_key.keys():\n",
    "            features[sub_key] = primary_key.get(sub_key).shape\n",
    "    all_features[h5_file.split('\\\\')[-1][:-3]] = features\n"
   ]
  },
  {
   "cell_type": "code",
   "execution_count": 99,
   "metadata": {
    "collapsed": false
   },
   "outputs": [
    {
     "name": "stdout",
     "output_type": "stream",
     "text": [
      "{'sample': {u'artist_mbtags_count': (0,), u'segments_confidence': (1558,), u'sections_start': (13,), u'tatums_start': (1410,), u'sections_confidence': (13,), u'beats_start': (705,), u'bars_confidence': (234,), u'bars_start': (234,), u'artist_mbtags': (0,), u'segments_loudness_max': (1558,), u'similar_artists': (100,), u'segments_timbre': (1558, 12), u'segments_loudness_start': (1558,), u'artist_terms': (49,), u'artist_terms_freq': (49,), u'beats_confidence': (705,), u'artist_terms_weight': (49,), u'segments_start': (1558,), u'segments_pitches': (1558, 12), u'tatums_confidence': (1410,), u'segments_loudness_max_time': (1558,), u'songs': (1,)}}\n"
     ]
    }
   ],
   "source": [
    "print all_features"
   ]
  },
  {
   "cell_type": "code",
   "execution_count": null,
   "metadata": {
    "collapsed": true
   },
   "outputs": [],
   "source": []
  }
 ],
 "metadata": {
  "anaconda-cloud": {},
  "kernelspec": {
   "display_name": "Python [conda root]",
   "language": "python",
   "name": "conda-root-py"
  },
  "language_info": {
   "codemirror_mode": {
    "name": "ipython",
    "version": 2
   },
   "file_extension": ".py",
   "mimetype": "text/x-python",
   "name": "python",
   "nbconvert_exporter": "python",
   "pygments_lexer": "ipython2",
   "version": "2.7.12"
  }
 },
 "nbformat": 4,
 "nbformat_minor": 1
}
