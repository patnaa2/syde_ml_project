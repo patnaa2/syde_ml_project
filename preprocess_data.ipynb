{
 "cells": [
  {
   "cell_type": "code",
   "execution_count": null,
   "metadata": {
    "collapsed": true
   },
   "outputs": [],
   "source": [
    "# Parse H5 files into dictionary of features"
   ]
  },
  {
   "cell_type": "code",
   "execution_count": 1,
   "metadata": {
    "collapsed": false
   },
   "outputs": [],
   "source": [
    "# Imports\n",
    "\n",
    "import os\n",
    "import h5py\n",
    "import pandas as pd\n",
    "import pickle"
   ]
  },
  {
   "cell_type": "code",
   "execution_count": 5,
   "metadata": {
    "collapsed": true
   },
   "outputs": [],
   "source": [
    "training_file = 'training_songs.csv'\n",
    "hits_file = 'top_hits.p'"
   ]
  },
  {
   "cell_type": "code",
   "execution_count": 7,
   "metadata": {
    "collapsed": false
   },
   "outputs": [],
   "source": [
    "# Load files\n",
    "songs = pd.read_csv(training_file, encoding = \"ISO-8859-1\")\n"
   ]
  },
  {
   "cell_type": "code",
   "execution_count": 8,
   "metadata": {
    "collapsed": false
   },
   "outputs": [],
   "source": [
    "# Sample for time efficiency in testing\n",
    "songs = songs.sample(10)"
   ]
  },
  {
   "cell_type": "code",
   "execution_count": 13,
   "metadata": {
    "collapsed": false
   },
   "outputs": [],
   "source": [
    "# Grab hits\n",
    "f = open(hits_file,\"rb\")\n",
    "hits = pickle.load(f)\n",
    "hits_norm = {}\n",
    "for k,v in hits.items():\n",
    "    hits_norm[k.lower().strip()] = v.lower().strip()"
   ]
  },
  {
   "cell_type": "code",
   "execution_count": 14,
   "metadata": {
    "collapsed": false
   },
   "outputs": [],
   "source": [
    "# Convert H5 files into dataframes\n",
    "\n",
    "df = pd.DataFrame()\n",
    "\n",
    "row_iterator = songs.iterrows()\n",
    "for i, row in row_iterator:\n",
    "\n",
    "    f = h5py.File(row['location'], \"r\")\n",
    "    features = {}\n",
    "    for key in f.keys():\n",
    "        primary_key = f.get(key)\n",
    "        for sub_key in primary_key.keys():\n",
    "            features[sub_key] = primary_key.get(sub_key).shape[0]\n",
    "    features['hit'] = 0;\n",
    "    artist = row['artist_name'].lower().strip()\n",
    "    song = row['title'].lower().strip()\n",
    "    hits_artist = hits_norm.get(song,False) \n",
    "    if hits_artist:\n",
    "        if hits_artist in artist or artist in hits_artist:\n",
    "            features['hit'] = 1;\n",
    "        \n",
    "    df = df.append(features, ignore_index=True)\n"
   ]
  },
  {
   "cell_type": "code",
   "execution_count": 15,
   "metadata": {
    "collapsed": false
   },
   "outputs": [
    {
     "name": "stdout",
     "output_type": "stream",
     "text": [
      "   artist_mbtags  artist_mbtags_count  artist_terms  artist_terms_freq  \\\n",
      "0            0.0                  0.0          16.0               16.0   \n",
      "1            0.0                  0.0          49.0               49.0   \n",
      "2            0.0                  0.0          23.0               23.0   \n",
      "3            0.0                  0.0          27.0               27.0   \n",
      "4            5.0                  5.0          44.0               44.0   \n",
      "5            0.0                  0.0          43.0               43.0   \n",
      "6            0.0                  0.0          16.0               16.0   \n",
      "7            2.0                  2.0          13.0               13.0   \n",
      "8            0.0                  0.0          42.0               42.0   \n",
      "9            2.0                  2.0          46.0               46.0   \n",
      "\n",
      "   artist_terms_weight  bars_confidence  bars_start  beats_confidence  \\\n",
      "0                 16.0             76.0        76.0             383.0   \n",
      "1                 49.0            200.0       200.0             804.0   \n",
      "2                 23.0            373.0       373.0            1120.0   \n",
      "3                 27.0              0.0         0.0               0.0   \n",
      "4                 44.0             47.0        47.0             192.0   \n",
      "5                 43.0            128.0       128.0             516.0   \n",
      "6                 16.0             72.0        72.0             291.0   \n",
      "7                 13.0            100.0       100.0             403.0   \n",
      "8                 42.0            120.0       120.0             484.0   \n",
      "9                 46.0            172.0       172.0             519.0   \n",
      "\n",
      "   beats_start  hit      ...       segments_loudness_max  \\\n",
      "0        383.0  0.0      ...                      1032.0   \n",
      "1        804.0  0.0      ...                       993.0   \n",
      "2       1120.0  0.0      ...                      1613.0   \n",
      "3          0.0  0.0      ...                      2805.0   \n",
      "4        192.0  0.0      ...                       450.0   \n",
      "5        516.0  0.0      ...                      1268.0   \n",
      "6        291.0  0.0      ...                       535.0   \n",
      "7        403.0  0.0      ...                       957.0   \n",
      "8        484.0  0.0      ...                      1225.0   \n",
      "9        519.0  0.0      ...                       797.0   \n",
      "\n",
      "   segments_loudness_max_time  segments_loudness_start  segments_pitches  \\\n",
      "0                      1032.0                   1032.0            1032.0   \n",
      "1                       993.0                    993.0             993.0   \n",
      "2                      1613.0                   1613.0            1613.0   \n",
      "3                      2805.0                   2805.0            2805.0   \n",
      "4                       450.0                    450.0             450.0   \n",
      "5                      1268.0                   1268.0            1268.0   \n",
      "6                       535.0                    535.0             535.0   \n",
      "7                       957.0                    957.0             957.0   \n",
      "8                      1225.0                   1225.0            1225.0   \n",
      "9                       797.0                    797.0             797.0   \n",
      "\n",
      "   segments_start  segments_timbre  similar_artists  songs  tatums_confidence  \\\n",
      "0          1032.0           1032.0            100.0    1.0             1148.0   \n",
      "1           993.0            993.0            100.0    1.0             1608.0   \n",
      "2          1613.0           1613.0            100.0    1.0             2240.0   \n",
      "3          2805.0           2805.0            100.0    1.0                0.0   \n",
      "4           450.0            450.0            100.0    1.0              384.0   \n",
      "5          1268.0           1268.0            100.0    1.0             2065.0   \n",
      "6           535.0            535.0            100.0    1.0              582.0   \n",
      "7           957.0            957.0            100.0    1.0              807.0   \n",
      "8          1225.0           1225.0            100.0    1.0             1937.0   \n",
      "9           797.0            797.0            100.0    1.0             1039.0   \n",
      "\n",
      "   tatums_start  \n",
      "0        1148.0  \n",
      "1        1608.0  \n",
      "2        2240.0  \n",
      "3           0.0  \n",
      "4         384.0  \n",
      "5        2065.0  \n",
      "6         582.0  \n",
      "7         807.0  \n",
      "8        1937.0  \n",
      "9        1039.0  \n",
      "\n",
      "[10 rows x 23 columns]\n"
     ]
    }
   ],
   "source": [
    "print (df)"
   ]
  },
  {
   "cell_type": "code",
   "execution_count": 6,
   "metadata": {
    "collapsed": false
   },
   "outputs": [
    {
     "name": "stdout",
     "output_type": "stream",
     "text": [
      "\n",
      "{'bars_confidence': 91, 'bars_start': 91, 'beats_confidence': 368, 'beats_start': 368, 'sections_confidence': 8, 'sections_start': 8, 'segments_confidence': 580, 'segments_loudness_max': 580, 'segments_loudness_max_time': 580, 'segments_loudness_start': 580, 'segments_pitches': 580, 'segments_start': 580, 'segments_timbre': 580, 'songs': 1, 'tatums_confidence': 736, 'tatums_start': 736, 'artist_terms': 44, 'artist_terms_freq': 44, 'artist_terms_weight': 44, 'similar_artists': 100, 'artist_mbtags': 4, 'artist_mbtags_count': 4}\n",
      "\n",
      "{'bars_confidence': 107, 'bars_start': 107, 'beats_confidence': 429, 'beats_start': 429, 'sections_confidence': 10, 'sections_start': 10, 'segments_confidence': 669, 'segments_loudness_max': 669, 'segments_loudness_max_time': 669, 'segments_loudness_start': 669, 'segments_pitches': 669, 'segments_start': 669, 'segments_timbre': 669, 'songs': 1, 'tatums_confidence': 858, 'tatums_start': 858, 'artist_terms': 46, 'artist_terms_freq': 46, 'artist_terms_weight': 46, 'similar_artists': 100, 'artist_mbtags': 1, 'artist_mbtags_count': 1}\n",
      "\n",
      "{'bars_confidence': 123, 'bars_start': 123, 'beats_confidence': 495, 'beats_start': 495, 'sections_confidence': 12, 'sections_start': 12, 'segments_confidence': 1234, 'segments_loudness_max': 1234, 'segments_loudness_max_time': 1234, 'segments_loudness_start': 1234, 'segments_pitches': 1234, 'segments_start': 1234, 'segments_timbre': 1234, 'songs': 1, 'tatums_confidence': 1980, 'tatums_start': 1980, 'artist_terms': 16, 'artist_terms_freq': 16, 'artist_terms_weight': 16, 'similar_artists': 100, 'artist_mbtags': 5, 'artist_mbtags_count': 5}\n",
      "\n",
      "{'bars_confidence': 238, 'bars_start': 238, 'beats_confidence': 957, 'beats_start': 957, 'sections_confidence': 24, 'sections_start': 24, 'segments_confidence': 2858, 'segments_loudness_max': 2858, 'segments_loudness_max_time': 2858, 'segments_loudness_start': 2858, 'segments_pitches': 2858, 'segments_start': 2858, 'segments_timbre': 2858, 'songs': 1, 'tatums_confidence': 3829, 'tatums_start': 3829, 'artist_terms': 26, 'artist_terms_freq': 26, 'artist_terms_weight': 26, 'similar_artists': 100, 'artist_mbtags': 0, 'artist_mbtags_count': 0}\n",
      "\n",
      "{'bars_confidence': 139, 'bars_start': 139, 'beats_confidence': 559, 'beats_start': 559, 'sections_confidence': 8, 'sections_start': 8, 'segments_confidence': 680, 'segments_loudness_max': 680, 'segments_loudness_max_time': 680, 'segments_loudness_start': 680, 'segments_pitches': 680, 'segments_start': 680, 'segments_timbre': 680, 'songs': 1, 'tatums_confidence': 1119, 'tatums_start': 1119, 'artist_terms': 45, 'artist_terms_freq': 45, 'artist_terms_weight': 45, 'similar_artists': 100, 'artist_mbtags': 1, 'artist_mbtags_count': 1}\n"
     ]
    }
   ],
   "source": [
    "for row in all_features:\n",
    "    print ()\n",
    "    print (row)"
   ]
  },
  {
   "cell_type": "code",
   "execution_count": 25,
   "metadata": {
    "collapsed": false
   },
   "outputs": [
    {
     "ename": "NameError",
     "evalue": "name 'd' is not defined",
     "output_type": "error",
     "traceback": [
      "\u001b[0;31m---------------------------------------------------------------------------\u001b[0m",
      "\u001b[0;31mNameError\u001b[0m                                 Traceback (most recent call last)",
      "\u001b[0;32m<ipython-input-25-70d46ada39e7>\u001b[0m in \u001b[0;36m<module>\u001b[0;34m()\u001b[0m\n\u001b[1;32m      1\u001b[0m \u001b[0mtransformed_data\u001b[0m \u001b[1;33m=\u001b[0m \u001b[1;33m[\u001b[0m\u001b[1;33m]\u001b[0m\u001b[1;33m\u001b[0m\u001b[0m\n\u001b[1;32m      2\u001b[0m \u001b[1;32mfor\u001b[0m \u001b[0mrow\u001b[0m \u001b[1;32min\u001b[0m \u001b[0mall_features\u001b[0m\u001b[1;33m:\u001b[0m\u001b[1;33m\u001b[0m\u001b[0m\n\u001b[0;32m----> 3\u001b[0;31m     \u001b[1;32mfor\u001b[0m \u001b[0mkey\u001b[0m\u001b[1;33m,\u001b[0m \u001b[0mvalue\u001b[0m \u001b[1;32min\u001b[0m \u001b[0md\u001b[0m\u001b[1;33m.\u001b[0m\u001b[0mitems\u001b[0m\u001b[1;33m(\u001b[0m\u001b[1;33m)\u001b[0m\u001b[1;33m:\u001b[0m\u001b[1;33m\u001b[0m\u001b[0m\n\u001b[0m\u001b[1;32m      4\u001b[0m         \u001b[0mrow\u001b[0m\u001b[1;33m[\u001b[0m\u001b[0mkey\u001b[0m\u001b[1;33m]\u001b[0m \u001b[1;33m=\u001b[0m \u001b[0mvalue\u001b[0m\u001b[1;33m(\u001b[0m\u001b[1;36m0\u001b[0m\u001b[1;33m)\u001b[0m\u001b[1;33m\u001b[0m\u001b[0m\n",
      "\u001b[0;31mNameError\u001b[0m: name 'd' is not defined"
     ]
    }
   ],
   "source": [
    "transformed_data = []\n",
    "for row in all_features:\n",
    "    for key, value in row.items():\n",
    "        row[key] = value(0)"
   ]
  },
  {
   "cell_type": "code",
   "execution_count": 98,
   "metadata": {
    "collapsed": false
   },
   "outputs": [],
   "source": [
    "# Convert H5 files into dict of features\n",
    "\n",
    "all_features = {}\n",
    "\n",
    "for h5_file in h5_list:\n",
    "    f = h5py.File(h5_file, \"r\")\n",
    "    features = {}\n",
    "    for key in f.keys():\n",
    "        primary_key = f.get(key)\n",
    "        for sub_key in primary_key.keys():\n",
    "            features[sub_key] = primary_key.get(sub_key).shape\n",
    "    all_features[h5_file.split('\\\\')[-1][:-3]] = features\n"
   ]
  },
  {
   "cell_type": "code",
   "execution_count": 99,
   "metadata": {
    "collapsed": false
   },
   "outputs": [
    {
     "name": "stdout",
     "output_type": "stream",
     "text": [
      "{'sample': {u'artist_mbtags_count': (0,), u'segments_confidence': (1558,), u'sections_start': (13,), u'tatums_start': (1410,), u'sections_confidence': (13,), u'beats_start': (705,), u'bars_confidence': (234,), u'bars_start': (234,), u'artist_mbtags': (0,), u'segments_loudness_max': (1558,), u'similar_artists': (100,), u'segments_timbre': (1558, 12), u'segments_loudness_start': (1558,), u'artist_terms': (49,), u'artist_terms_freq': (49,), u'beats_confidence': (705,), u'artist_terms_weight': (49,), u'segments_start': (1558,), u'segments_pitches': (1558, 12), u'tatums_confidence': (1410,), u'segments_loudness_max_time': (1558,), u'songs': (1,)}}\n"
     ]
    }
   ],
   "source": [
    "print all_features"
   ]
  },
  {
   "cell_type": "code",
   "execution_count": 7,
   "metadata": {
    "collapsed": false
   },
   "outputs": [],
   "source": []
  },
  {
   "cell_type": "code",
   "execution_count": 13,
   "metadata": {
    "collapsed": false
   },
   "outputs": [],
   "source": []
  },
  {
   "cell_type": "code",
   "execution_count": null,
   "metadata": {
    "collapsed": true
   },
   "outputs": [],
   "source": []
  }
 ],
 "metadata": {
  "anaconda-cloud": {},
  "kernelspec": {
   "display_name": "Python 3",
   "language": "python",
   "name": "python3"
  }
 },
 "nbformat": 4,
 "nbformat_minor": 1
}
