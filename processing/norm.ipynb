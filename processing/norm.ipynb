{
 "cells": [
  {
   "cell_type": "code",
   "execution_count": 2,
   "metadata": {
    "collapsed": true
   },
   "outputs": [],
   "source": [
    "import functools\n",
    "import sqlite3\n",
    "import pandas as pd"
   ]
  },
  {
   "cell_type": "code",
   "execution_count": 3,
   "metadata": {
    "collapsed": true
   },
   "outputs": [],
   "source": [
    "# Variables\n",
    "\n",
    "# Preprocessed files\n",
    "file_list = ['data_2008.csv', 'data_2009.csv', 'data_2010.csv', 'data_2011.csv']\n",
    "\n",
    "# Metadata DB\n",
    "track_metadata = \"D:\\\\522\\\\AdditionalFiles\\\\track_metadata.db\""
   ]
  },
  {
   "cell_type": "code",
   "execution_count": 5,
   "metadata": {
    "collapsed": false
   },
   "outputs": [],
   "source": [
    "# Normalization and dimensionality reduction functions\n",
    "# Note eval str() must be used because of string storage format\n",
    "\n",
    "def avg(r):\n",
    "    \"\"\" Returns average of list\"\"\"\n",
    "    z = eval(str(r))\n",
    "    l = len(z)\n",
    "    if l > 0:\n",
    "        return functools.reduce(lambda x, y: x + y, z) / l\n",
    "    return 0\n",
    "\n",
    "def wavg(w, v):\n",
    "    \"\"\" Returns weighted average of list where w is weight and v is value\"\"\"\n",
    "    zipped = zip(eval(str(w)),eval(str(v)))\n",
    "    \n",
    "    top = [ c * x for (c,x) in zipped]\n",
    "    bot = sum (eval(str(w)))\n",
    "    if bot:\n",
    "        return functools.reduce(lambda x, y: x + y, top) / bot\n",
    "    return 0\n",
    "\n",
    "def max_norm(r):\n",
    "    \"\"\" Returns max in list\"\"\"\n",
    "    z = eval(str(r))\n",
    "    if len(z) > 0:\n",
    "        return functools.reduce(lambda x, y: x if x > y else y, z)\n",
    "    return 0"
   ]
  },
  {
   "cell_type": "code",
   "execution_count": 6,
   "metadata": {
    "collapsed": false
   },
   "outputs": [
    {
     "name": "stdout",
     "output_type": "stream",
     "text": [
      "data_2008.csv\n",
      "data_2009.csv\n",
      "data_2010.csv\n",
      "data_2011.csv\n"
     ]
    }
   ],
   "source": [
    "# Normalize files in list\n",
    "\n",
    "for file in file_list:\n",
    "    print (file)\n",
    "    chunks = pd.read_csv(file, encoding = \"ISO-8859-1\", chunksize=500, low_memory=False,\n",
    "                       usecols=['artist_name', 'artist_terms', 'bars_confidence', 'bars_start', 'beats_confidence',\n",
    "                                'beats_start',\n",
    "                                'sections_start', 'segments_confidence', 'segments_loudness_max', 'segments_start',\n",
    "                                'song', 'tatums_start', 'tatums_confidence'])\n",
    "    df = pd.concat((chunk for chunk in chunks), ignore_index=True)\n",
    "\n",
    "    df['bars'] = df.apply(lambda row: wavg(row['bars_confidence'], row['bars_start']), axis=1)\n",
    "    df.drop('bars_confidence', axis=1, inplace=True)\n",
    "    df.drop('bars_start', axis=1, inplace=True)\n",
    "    \n",
    "    df['beats'] = df.apply(lambda row: wavg(row['beats_confidence'], row['beats_start']), axis=1)\n",
    "    df.drop('beats_confidence', axis=1, inplace=True)\n",
    "    df.drop('beats_start', axis=1, inplace=True)\n",
    "\n",
    "    df['sections_start'] = df['sections_start'].apply(avg)\n",
    "        \n",
    "    df['segments'] = df.apply(lambda row: wavg(row['segments_confidence'], row['segments_start']), axis=1)\n",
    "    df.drop('segments_confidence', axis=1, inplace=True)\n",
    "    df.drop('segments_start', axis=1, inplace=True)\n",
    "    \n",
    "    df['segments_loudness_max'] = df['segments_loudness_max'].apply(max_norm)\n",
    "    \n",
    "    df['tatums'] = df.apply(lambda row: wavg(row['tatums_confidence'], row['tatums_start']), axis=1)\n",
    "    df.drop('tatums_start', axis=1, inplace=True)\n",
    "    df.drop('tatums_confidence', axis=1, inplace=True)\n",
    "\n",
    "    df.to_csv(\"normw_\" + file)"
   ]
  },
  {
   "cell_type": "code",
   "execution_count": null,
   "metadata": {
    "collapsed": true
   },
   "outputs": [],
   "source": []
  }
 ],
 "metadata": {
  "kernelspec": {
   "display_name": "Python 3",
   "language": "python",
   "name": "python3"
  },
  "language_info": {
   "codemirror_mode": {
    "name": "ipython",
    "version": 3
   },
   "file_extension": ".py",
   "mimetype": "text/x-python",
   "name": "python",
   "nbconvert_exporter": "python",
   "pygments_lexer": "ipython3",
   "version": "3.6.0"
  }
 },
 "nbformat": 4,
 "nbformat_minor": 2
}
