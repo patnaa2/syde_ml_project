{
 "cells": [
  {
   "cell_type": "code",
   "execution_count": 1,
   "metadata": {
    "collapsed": false
   },
   "outputs": [],
   "source": [
    "import functools\n",
    "import random\n",
    "import math\n",
    "import pandas as pd\n",
    "from sklearn import svm\n",
    "from sklearn.svm import SVR\n",
    "from sklearn.pipeline import Pipeline"
   ]
  },
  {
   "cell_type": "code",
   "execution_count": 2,
   "metadata": {
    "collapsed": true
   },
   "outputs": [],
   "source": [
    "# Variables\n",
    "\n",
    "# File prefix\n",
    "file_pre = 'normw_data_'\n",
    "\n",
    "# File suffix\n",
    "file_suf = '.csv'\n",
    "\n",
    "# Start year\n",
    "start = 1990\n",
    "\n",
    "# Number of years to process\n",
    "end = 21 \n",
    "\n",
    "# Number of iterations\n",
    "runs = 5\n",
    "\n",
    "# Training/Test percent split\n",
    "training_percent = 0.85"
   ]
  },
  {
   "cell_type": "code",
   "execution_count": 3,
   "metadata": {
    "collapsed": false
   },
   "outputs": [],
   "source": [
    "# Create file list\n",
    "all_files = []\n",
    "for i in range(end+1):\n",
    "    all_files.append(file_pre + str(start + i) + file_suf)\n",
    "\n",
    "random.shuffle(all_files)\n",
    "\n",
    "# Need data for if hit or not\n",
    "\n",
    "hits = pd.read_csv('labelled_data.csv', encoding = \"ISO-8859-1\")\n",
    "hits['song'] = hits['title'].str.lower() \n",
    "hits['artist_name'] = hits['artist_name'].str.lower() \n",
    "\n",
    "\n",
    "# Functions for Metrics\n",
    "def acc(data):\n",
    "    in_ac = [float(1) if a==b else 0 for (a,b) in data]\n",
    "    return functools.reduce(lambda x, y: x + y, in_ac) / len(in_ac)\n",
    "def pr(data):\n",
    "    l = len(data)\n",
    "    tp = functools.reduce(lambda x, y: x + y, [float(1) if a==b else 0 for (a,b) in data])\n",
    "    fp = functools.reduce(lambda x, y: x + y, [float(1) if a==0 and p==1 else 0 for (a,p) in data])\n",
    "    fn = functools.reduce(lambda x, y: x + y, [float(1) if a==1 and p==0 else 0 for (a,p) in data])\n",
    "    \n",
    "    pr = tp / (tp + fp)\n",
    "    rc = tp / (tp + fn)\n",
    "    return (pr, rc)"
   ]
  },
  {
   "cell_type": "code",
   "execution_count": 5,
   "metadata": {
    "collapsed": false,
    "scrolled": true
   },
   "outputs": [
    {
     "name": "stdout",
     "output_type": "stream",
     "text": [
      "Run #0\n",
      "['normw_data_1997.csv', 'normw_data_2002.csv', 'normw_data_1998.csv', 'normw_data_2009.csv', 'normw_data_2010.csv', 'normw_data_2003.csv', 'normw_data_1999.csv', 'normw_data_2011.csv', 'normw_data_2004.csv', 'normw_data_1994.csv', 'normw_data_1996.csv', 'normw_data_1990.csv', 'normw_data_2005.csv', 'normw_data_2008.csv', 'normw_data_1991.csv', 'normw_data_1995.csv', 'normw_data_1992.csv', 'normw_data_2000.csv', 'normw_data_1993.csv']\n",
      "['normw_data_2006.csv', 'normw_data_2001.csv', 'normw_data_2007.csv']\n"
     ]
    },
    {
     "name": "stderr",
     "output_type": "stream",
     "text": [
      "C:\\ProgramData\\Anaconda3\\lib\\site-packages\\sklearn\\svm\\base.py:220: ConvergenceWarning: Solver terminated early (max_iter=100).  Consider pre-processing your data with StandardScaler or MinMaxScaler.\n",
      "  % self.max_iter, ConvergenceWarning)\n"
     ]
    },
    {
     "name": "stdout",
     "output_type": "stream",
     "text": [
      "acc: 0.9290942559390083\n",
      "precision/recall:(0.9541395016522283, 0.9725239713557471)\n",
      "Run #1\n",
      "['normw_data_1990.csv', 'normw_data_1993.csv', 'normw_data_1997.csv', 'normw_data_1994.csv', 'normw_data_1995.csv', 'normw_data_1999.csv', 'normw_data_2004.csv', 'normw_data_2009.csv', 'normw_data_1991.csv', 'normw_data_2006.csv', 'normw_data_2003.csv', 'normw_data_1996.csv', 'normw_data_1992.csv', 'normw_data_2002.csv', 'normw_data_2011.csv', 'normw_data_2000.csv', 'normw_data_2008.csv', 'normw_data_2005.csv', 'normw_data_1998.csv']\n",
      "['normw_data_2001.csv', 'normw_data_2010.csv', 'normw_data_2007.csv']\n",
      "acc: 0.6133314503601186\n",
      "precision/recall:(0.623751000225692, 0.9734861827147844)\n",
      "Run #2\n",
      "['normw_data_1994.csv', 'normw_data_2000.csv', 'normw_data_2006.csv', 'normw_data_2002.csv', 'normw_data_1999.csv', 'normw_data_1990.csv', 'normw_data_2009.csv', 'normw_data_2003.csv', 'normw_data_1992.csv', 'normw_data_2011.csv', 'normw_data_2001.csv', 'normw_data_2008.csv', 'normw_data_1998.csv', 'normw_data_2007.csv', 'normw_data_2004.csv', 'normw_data_1995.csv', 'normw_data_1993.csv', 'normw_data_1996.csv', 'normw_data_1997.csv']\n",
      "['normw_data_2010.csv', 'normw_data_2005.csv', 'normw_data_1991.csv']\n",
      "acc: 0.7673692840707731\n",
      "precision/recall:(0.7826239413065761, 0.9752285560634579)\n",
      "Run #3\n",
      "['normw_data_2003.csv', 'normw_data_2002.csv', 'normw_data_2006.csv', 'normw_data_2011.csv', 'normw_data_2007.csv', 'normw_data_2001.csv', 'normw_data_2004.csv', 'normw_data_1997.csv', 'normw_data_1994.csv', 'normw_data_1995.csv', 'normw_data_2005.csv', 'normw_data_1991.csv', 'normw_data_1996.csv', 'normw_data_1990.csv', 'normw_data_2010.csv', 'normw_data_1993.csv', 'normw_data_2000.csv', 'normw_data_1998.csv', 'normw_data_2008.csv']\n",
      "['normw_data_1992.csv', 'normw_data_2009.csv', 'normw_data_1999.csv']\n",
      "acc: 0.7909078523093692\n",
      "precision/recall:(0.8161113454238718, 0.962420558165239)\n",
      "Run #4\n",
      "['normw_data_2000.csv', 'normw_data_1997.csv', 'normw_data_2005.csv', 'normw_data_1990.csv', 'normw_data_1996.csv', 'normw_data_1991.csv', 'normw_data_2002.csv', 'normw_data_2011.csv', 'normw_data_1992.csv', 'normw_data_1999.csv', 'normw_data_2008.csv', 'normw_data_2001.csv', 'normw_data_1994.csv', 'normw_data_1998.csv', 'normw_data_1995.csv', 'normw_data_2009.csv', 'normw_data_2006.csv', 'normw_data_2003.csv', 'normw_data_2010.csv']\n",
      "['normw_data_1993.csv', 'normw_data_2007.csv', 'normw_data_2004.csv']\n",
      "acc: 0.7129067843353558\n",
      "precision/recall:(0.7322557229608909, 0.9642599025482014)\n"
     ]
    }
   ],
   "source": [
    "for i in range(runs):\n",
    "    print (\"Run #\" + str(i))\n",
    "    \n",
    "    # Ingest and randomize row order\n",
    "    random.shuffle(all_files)\n",
    "    train_num = math.ceil (training_percent * len(all_files))\n",
    "    file_list = all_files[:train_num]\n",
    "    test_list = all_files[train_num:]\n",
    "    print (str(file_list))\n",
    "    print (str(test_list))\n",
    "    df = pd.DataFrame()\n",
    "    for file in file_list:\n",
    "        chunks = pd.read_csv(file, encoding = \"ISO-8859-1\", chunksize=1000, low_memory=False,\n",
    "                           usecols=['artist_name', 'song', 'artist_nid','song_nid', 'bars', 'beats',\n",
    "                                    'sections_start', 'segments', 'segments_loudness_max', 'tatums'])\n",
    "        tmp = pd.concat((chunk for chunk in chunks), ignore_index=True)\n",
    "        df = pd.concat([df, tmp], ignore_index=True)\n",
    "    df = pd.merge(df, hits, on=['song', 'artist_name'], how='inner')\n",
    "\n",
    "    # Train Model\n",
    "    # Limit max_iter=100 for processing speed and convergence\n",
    "    clf = svm.SVC(kernel='rbf', C=1e3, gamma=0.001, cache_size=6000, max_iter=100)\n",
    "    y = df[\"hit\"].values\n",
    "    X = df[['bars', 'beats', 'sections_start', 'segments', 'segments_loudness_max', 'tatums']].values\n",
    "    clf.fit(X, y)\n",
    "\n",
    "    # Predict and score\n",
    "    test_df = pd.DataFrame()\n",
    "    sample_size = 0 # Use whole test data set\n",
    "    for file in test_list:\n",
    "        chunks = pd.read_csv(file, encoding = \"ISO-8859-1\", chunksize=1000, low_memory=False,\n",
    "                           usecols=['artist_name', 'song', 'artist_nid','song_nid', 'bars', 'beats',\n",
    "                                    'sections_start', 'segments', 'segments_loudness_max', 'tatums'])\n",
    "        tmp = pd.concat((chunk for chunk in chunks), ignore_index=True)\n",
    "        test_df = pd.concat([test_df, tmp], ignore_index=True)\n",
    "    sample = test_df\n",
    "    if sample_size:\n",
    "        sample = sample.sample(sample_size)\n",
    "    sample = pd.merge(sample, hits, on=['song', 'artist_name'], how='inner')\n",
    "    results = []\n",
    "    for index, row in sample.iterrows():\n",
    "        tmp_df = pd.DataFrame([row])\n",
    "        pred = clf.predict(tmp_df[['bars', 'beats', 'sections_start', 'segments', 'segments_loudness_max', 'tatums']].values)\n",
    "        results.append((row['hit'], pred[0]))\n",
    "    print (\"acc: \" + str(acc(results)))\n",
    "    print (\"precision/recall:\" + str(pr(results)))\n",
    "    \n",
    "    "
   ]
  },
  {
   "cell_type": "code",
   "execution_count": null,
   "metadata": {
    "collapsed": true
   },
   "outputs": [],
   "source": []
  }
 ],
 "metadata": {
  "kernelspec": {
   "display_name": "Python 3",
   "language": "python",
   "name": "python3"
  },
  "language_info": {
   "codemirror_mode": {
    "name": "ipython",
    "version": 3
   },
   "file_extension": ".py",
   "mimetype": "text/x-python",
   "name": "python",
   "nbconvert_exporter": "python",
   "pygments_lexer": "ipython3",
   "version": "3.6.0"
  }
 },
 "nbformat": 4,
 "nbformat_minor": 2
}
