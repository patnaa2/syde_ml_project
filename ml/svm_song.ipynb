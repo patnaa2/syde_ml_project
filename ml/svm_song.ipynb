{
 "cells": [
  {
   "cell_type": "code",
   "execution_count": 1,
   "metadata": {
    "collapsed": false
   },
   "outputs": [],
   "source": [
    "import functools\n",
    "import random\n",
    "import math\n",
    "import pandas as pd\n",
    "import numpy as np\n",
    "from sklearn import svm\n",
    "from sklearn.svm import SVR\n",
    "from sklearn.pipeline import Pipeline"
   ]
  },
  {
   "cell_type": "code",
   "execution_count": 2,
   "metadata": {
    "collapsed": true
   },
   "outputs": [],
   "source": [
    "# Variables\n",
    "\n",
    "# File prefix\n",
    "file_pre = 'normw_data_'\n",
    "\n",
    "# File suffix\n",
    "file_suf = '.csv'\n",
    "\n",
    "# Start year\n",
    "start = 1990\n",
    "\n",
    "# Number of years to process\n",
    "end = 21 \n",
    "\n",
    "# Number of iterations\n",
    "runs = 5\n",
    "\n",
    "# Training/Test percent split\n",
    "training_percent = 0.85"
   ]
  },
  {
   "cell_type": "code",
   "execution_count": 3,
   "metadata": {
    "collapsed": false
   },
   "outputs": [],
   "source": [
    "# Create file list\n",
    "all_files = []\n",
    "for i in range(end+1):\n",
    "    all_files.append(file_pre + str(start + i) + file_suf)\n",
    "\n",
    "random.shuffle(all_files)\n",
    "\n",
    "# Need data for if hit or not\n",
    "hits = pd.read_csv('labelled_data.csv', encoding = \"ISO-8859-1\")\n",
    "hits['song'] = hits['title'].str.lower() \n",
    "hits['artist_name'] = hits['artist_name'].str.lower() \n",
    "\n",
    "# Functions for Metrics\n",
    "def acc(data):\n",
    "    in_ac = [float(1) if a==b else 0 for (a,b) in data]\n",
    "    return functools.reduce(lambda x, y: x + y, in_ac) / len(in_ac)\n",
    "def pr(data):\n",
    "    l = len(data)\n",
    "    tp = functools.reduce(lambda x, y: x + y, [float(1) if a==b else 0 for (a,b) in data])\n",
    "    fp = functools.reduce(lambda x, y: x + y, [float(1) if a==0 and p==1 else 0 for (a,p) in data])\n",
    "    fn = functools.reduce(lambda x, y: x + y, [float(1) if a==1 and p==0 else 0 for (a,p) in data])\n",
    "    \n",
    "    pr = tp / (tp + fp)\n",
    "    rc = tp / (tp + fn)\n",
    "    return (pr, rc)"
   ]
  },
  {
   "cell_type": "code",
   "execution_count": 4,
   "metadata": {
    "collapsed": false,
    "scrolled": true
   },
   "outputs": [
    {
     "name": "stdout",
     "output_type": "stream",
     "text": [
      "Run #0\n"
     ]
    },
    {
     "name": "stderr",
     "output_type": "stream",
     "text": [
      "C:\\ProgramData\\Anaconda3\\lib\\site-packages\\sklearn\\svm\\base.py:220: ConvergenceWarning: Solver terminated early (max_iter=100).  Consider pre-processing your data with StandardScaler or MinMaxScaler.\n",
      "  % self.max_iter, ConvergenceWarning)\n"
     ]
    },
    {
     "name": "stdout",
     "output_type": "stream",
     "text": [
      "acc: 0.8835892852306275\n",
      "precision/recall:(0.9068998109640832, 0.9717323960443226)\n",
      "Run #1\n",
      "acc: 0.8422036239538474\n",
      "precision/recall:(0.8637979887771543, 0.9711724654881629)\n",
      "Run #2\n",
      "acc: 0.7018498957233011\n",
      "precision/recall:(0.714014107792351, 0.9763017104965714)\n",
      "Run #3\n",
      "acc: 0.8429078302321172\n",
      "precision/recall:(0.8672909177047627, 0.9677228769551292)\n",
      "Run #4\n",
      "acc: 0.7438314238509249\n",
      "precision/recall:(0.7632851584213451, 0.966870863258696)\n"
     ]
    }
   ],
   "source": [
    "# Ingest files, randomize order, train model, predict for test set, and score.\n",
    "\n",
    "for i in range(runs):\n",
    "    print (\"Run #\" + str(i))\n",
    "    \n",
    "    # Ingest and randomize row order\n",
    "    random.shuffle(all_files)\n",
    "    df = pd.DataFrame()\n",
    "    for file in all_files:\n",
    "        chunks = pd.read_csv(file, encoding = \"ISO-8859-1\", chunksize=1000, low_memory=False,\n",
    "                           usecols=['artist_name', 'song', 'artist_nid','song_nid', 'bars', 'beats',\n",
    "                                    'sections_start', 'segments', 'segments_loudness_max', 'tatums'])\n",
    "        tmp = pd.concat((chunk for chunk in chunks), ignore_index=True)\n",
    "        df = pd.concat([df, tmp], ignore_index=True)\n",
    "\n",
    "    df = pd.merge(df, hits, on=['song', 'artist_name'], how='inner').reindex(np.random.permutation(df.index))\n",
    "    \n",
    "    # Split training/testing dataset\n",
    "    train_num = math.ceil (training_percent * len(df.index))\n",
    "    test_num = len(df.index) - train_num\n",
    "    train_df = df.head(train_num)\n",
    "    test_df = df.tail(test_num)\n",
    "    \n",
    "    # Train Model\n",
    "    # Set max_iter=100 to speed up processing and model convergence    \n",
    "    clf = svm.SVC(kernel='rbf', C=1e3, gamma=0.001, cache_size=6000, max_iter=100)\n",
    "    y = train_df[\"hit\"].values\n",
    "    X = train_df[['bars', 'beats', 'sections_start', 'segments', 'segments_loudness_max', 'tatums']].values\n",
    "    clf.fit(X, y)\n",
    "\n",
    "    # Predict and score\n",
    "    sample_size = 0 # Use whole test data set\n",
    "    sample = test_df\n",
    "    if sample_size:\n",
    "        sample = sample.sample(sample_size)\n",
    "    results = []\n",
    "    for index, row in sample.iterrows():\n",
    "        tmp_df = pd.DataFrame([row])\n",
    "        pred = clf.predict(tmp_df[['bars', 'beats', 'sections_start', 'segments', 'segments_loudness_max', 'tatums']].values)\n",
    "        results.append((row['hit'], pred[0]))\n",
    "    print (\"acc: \" + str(acc(results)))\n",
    "    print (\"precision/recall:\" + str(pr(results)))\n",
    "    \n",
    "    "
   ]
  },
  {
   "cell_type": "code",
   "execution_count": null,
   "metadata": {
    "collapsed": true
   },
   "outputs": [],
   "source": []
  }
 ],
 "metadata": {
  "kernelspec": {
   "display_name": "Python 3",
   "language": "python",
   "name": "python3"
  },
  "language_info": {
   "codemirror_mode": {
    "name": "ipython",
    "version": 3
   },
   "file_extension": ".py",
   "mimetype": "text/x-python",
   "name": "python",
   "nbconvert_exporter": "python",
   "pygments_lexer": "ipython3",
   "version": "3.6.0"
  }
 },
 "nbformat": 4,
 "nbformat_minor": 2
}
